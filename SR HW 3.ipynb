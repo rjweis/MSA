{
 "cells": [
  {
   "cell_type": "markdown",
   "metadata": {},
   "source": [
    "# Load data, import modules"
   ]
  },
  {
   "cell_type": "code",
   "execution_count": 2,
   "metadata": {
    "code_folding": []
   },
   "outputs": [],
   "source": [
    "# load data\n",
    "\n",
    "from IPython.core.interactiveshell import InteractiveShell\n",
    "InteractiveShell.ast_node_interactivity = \"all\"\n",
    "import numpy as np\n",
    "np.random.seed(69)\n",
    "import statistics\n",
    "import pandas as pd\n",
    "pd.options.display.float_format = '{:.2f}'.format\n",
    "import seaborn as sns\n",
    "import matplotlib.pyplot as plt\n",
    "from plotnine import *\n",
    "\n",
    "\n",
    "# import data, drop unnecessary years, and set variable types\n",
    "df = pd.read_csv('drill_costs.csv')\n",
    "df = df[(df['date'] > 1990) & (df['date'] != 2007)]\n",
    "df = df.reset_index(drop=True)\n",
    "df['avg_dx_oil_gas_well'] = df['avg_dx_oil_gas_well'].astype(float)\n",
    "df['dx_gas'] = df['dx_gas'].astype(float)\n",
    "df['dx_oil'] = df['dx_oil'].astype(float)\n",
    "df['dx_well'] = df['dx_well'].astype(float)\n",
    "df_cost = df\n",
    "\n",
    "df_price = pd.read_csv('oil_price_projections.csv')\n",
    "df_price = df_price[(df_price['year'] <= 2035) & (df_price['year'] != 2020)]\n",
    "df_price = df_price.reset_index(drop=True)"
   ]
  },
  {
   "cell_type": "markdown",
   "metadata": {},
   "source": [
    "# KDE for 2020 Drill Costs"
   ]
  },
  {
   "cell_type": "code",
   "execution_count": 3,
   "metadata": {
    "code_folding": [
     0
    ]
   },
   "outputs": [],
   "source": [
    "# function for generating kde\n",
    "from sklearn.neighbors import KernelDensity\n",
    "from scipy.stats import gaussian_kde\n",
    "\n",
    "def kde_sklearn(x, x_grid, bandwidth=0.2, **kwargs):\n",
    "    \"\"\"Kernel Density Estimation with Scikit-learn\"\"\"\n",
    "    kde_skl = KernelDensity(bandwidth=bandwidth, **kwargs)\n",
    "    kde_skl.fit(x[:, np.newaxis])\n",
    "    # score_samples() returns the log-likelihood of the samples\n",
    "    log_pdf = kde_skl.score_samples(x_grid[:, np.newaxis])\n",
    "    return np.exp(log_pdf)\n",
    "\n",
    "def kde_sample(x, x_grid, n, bandwidth=.02):\n",
    "    \"\"\"return random sample from KDE\"\"\"\n",
    "    kde_skl = KernelDensity(bandwidth=bandwidth)\n",
    "    kde_skl.fit(x[:, np.newaxis])\n",
    "    sample = kde_skl.sample(n_samples = n)\n",
    "    return(sample)"
   ]
  },
  {
   "cell_type": "code",
   "execution_count": 4,
   "metadata": {
    "code_folding": [
     0
    ]
   },
   "outputs": [],
   "source": [
    "def drill_cost_sim(sim_size, bandwidth = .0521, \n",
    "               t_min1 = -.22, t_mean1 = -.0917, t_max1 = -.07,\n",
    "               t_min2 = .02, t_mean2 = .05, t_max2 = .06):\n",
    "    '''Simulate distribution of drilling costs for 2020 using the KDE for 2008-2012.'''\n",
    "\n",
    "    from sklearn.neighbors import KernelDensity\n",
    "    from scipy.stats import gaussian_kde\n",
    "        \n",
    "    sim_size = sim_size*2\n",
    "    \n",
    "    # average cost for 2006\n",
    "    cost_t0 = np.mean(\n",
    "    df[['oil_k','gas_k', 'well_k']][df['date'] == 2006].values)\n",
    "\n",
    "    # input variables\n",
    "    ls = [df['dx_gas'], df['dx_oil'], df['dx_well']]\n",
    "    x = [item for sublist in ls for item in sublist] # get all columns values into a flat list\n",
    "        \n",
    "    # for kde sampling    \n",
    "    x_d = np.linspace(-.5, .5, 100000)  \n",
    "    x = np.array(x) \n",
    "    \n",
    "    # 2007\n",
    "    dx = kde_sample(x, x_d, n = sim_size, bandwidth=bandwidth)\n",
    "    cost_t = cost_t0*(1+dx)\n",
    "    \n",
    "    for i in range(2008,2013):            \n",
    "        dx = kde_sample(x, x_d, n = sim_size, bandwidth = bandwidth)\n",
    "        cost_t = cost_t*(1+dx)\n",
    "    \n",
    "    for i in range(2013, 2016):\n",
    "        dx = np.random.triangular(left = t_min1, mode = t_mean1, right = t_max1, size = sim_size)\n",
    "        dx = np.array([[item] for item in dx])\n",
    "        cost_t = cost_t*(1+dx) \n",
    "        \n",
    "    for i in range(2016, 2021):\n",
    "        dx = np.random.triangular(left = t_min2, mode = t_mean2, right = t_max2, size = sim_size)\n",
    "        dx = np.array([[item] for item in dx])\n",
    "        cost_t = cost_t*(1+dx) \n",
    "    \n",
    "    return(list(cost_t.flatten()))"
   ]
  },
  {
   "cell_type": "code",
   "execution_count": 5,
   "metadata": {
    "code_folding": [
     0
    ]
   },
   "outputs": [],
   "source": [
    "def get_drill_cost_vec(kde_values, sim_size):\n",
    "    '''Draw a sample from the KDE to be used as the drilling cost.'''\n",
    "    \n",
    "    import random\n",
    "    samp = random.sample(kde_values, k = sim_size)\n",
    "    samp = np.array(samp)\n",
    "    samp = samp.flatten()\n",
    "    \n",
    "    return(samp)"
   ]
  },
  {
   "cell_type": "markdown",
   "metadata": {},
   "source": [
    "# Dry Well Simulation"
   ]
  },
  {
   "cell_type": "code",
   "execution_count": 6,
   "metadata": {
    "code_folding": []
   },
   "outputs": [],
   "source": [
    "def sim_dry_vec(sim_size):\n",
    "    drill_cost_dist = drill_cost_sim(sim_size)\n",
    "    drill_cost_dist = list(drill_cost_dist)\n",
    "    \n",
    "    # unit costs\n",
    "    cost_per_acre = 960\n",
    "    cost_per_section = 43000\n",
    "    \n",
    "    # simulate (overhead will need to be added for future years as well)\n",
    "    n_acres = np.random.normal(600, 60, size = sim_size) \n",
    "    n_sections = np.random.normal(3, .35, size = sim_size) \n",
    "    overhead = np.random.triangular(left = 172000, mode = 215000, right = 279500, size = sim_size)\n",
    "    \n",
    "    # sample from the KDE distribution and use this as the drilling cost\n",
    "    cost_drilling = get_drill_cost_vec(drill_cost_dist, sim_size) * 1000 # multiply by 1000 since these numbers are in thousands of dollars\n",
    "    \n",
    "    total_cost_acre = cost_per_acre * n_acres\n",
    "    total_cost_section = cost_per_section * n_sections\n",
    "        \n",
    "    final_cost = (total_cost_acre + total_cost_section + overhead + cost_drilling)\n",
    "        \n",
    "    return(final_cost)"
   ]
  },
  {
   "cell_type": "markdown",
   "metadata": {},
   "source": [
    "# Wet Well Simulation"
   ]
  },
  {
   "cell_type": "code",
   "execution_count": 7,
   "metadata": {
    "code_folding": [
     0,
     24,
     54,
     65,
     76,
     87
    ]
   },
   "outputs": [],
   "source": [
    "def initial_cost_vec(kde_values, sim_size):\n",
    "    '''Return overhead cost to be used for the years 2021-2035, as well as the year 0 fixed costs'''\n",
    "    # year 0 costs\n",
    "    \n",
    "    # unit costs\n",
    "    cost_per_acre = 960\n",
    "    cost_per_section = 43000\n",
    "    \n",
    "    # simulate (overhead will need to be added for future years as well)\n",
    "    n_acres = np.random.normal(600, 50, size = sim_size) \n",
    "    n_sections = np.random.normal(3, .35, size = sim_size) \n",
    "    overhead = np.random.triangular(left = 172000, mode = 215000, right = 279500, size = sim_size)\n",
    "    cost_completion = np.random.normal(390000, 50000, size = sim_size)\n",
    "    \n",
    "    # sample from the KDE distribution and use this as the drilling cost\n",
    "    cost_drilling = get_drill_cost_vec(kde_values, sim_size) * 1000 # multiply by 1000 since these numbers are in thousands of dollars\n",
    "    \n",
    "    total_cost_acre = cost_per_acre * n_acres\n",
    "    total_cost_section = cost_per_section * n_sections\n",
    "        \n",
    "    final_cost = (total_cost_acre + total_cost_section + overhead + cost_drilling + cost_completion)\n",
    "        \n",
    "    return(overhead, final_cost)\n",
    "\n",
    "def get_rates_vec(sim_size):\n",
    "    '''Returns the population of correlated initial production rates and decline rates.'''\n",
    "    \n",
    "    # functions and matrices for chol decomp later\n",
    "    def standardize(x):\n",
    "        x_std = (x - x.mean())/x.std()\n",
    "        return(x_std)\n",
    "\n",
    "    def destandardize(x_std, x):\n",
    "        x_old = (x_std * x.std()) + x.mean()\n",
    "        return(x_old)\n",
    "    \n",
    "    r = np.array([[1, .64], [.64, 1]]) # correlation matrix\n",
    "    u = np.linalg.cholesky(r)\n",
    "    \n",
    "    init_rate = np.random.lognormal(6, .28, size = sim_size) # barrels/day\n",
    "\n",
    "    # decline rate\n",
    "    dec_rate = np.random.uniform(.15, .32, size = sim_size)\n",
    "\n",
    "    # make init_rate and dec_rate correlated (.64)\n",
    "    both_rates = [standardize(dec_rate), standardize(init_rate)]\n",
    "    id_rate = np.dot(u, both_rates).T\n",
    "\n",
    "    final_id_rate = np.array([[destandardize(id_rate[:, 0], dec_rate)],\n",
    "                         [destandardize(id_rate[:, 1], init_rate)]])\n",
    "    final_id_rate = final_id_rate.squeeze()\n",
    "    \n",
    "    return(final_id_rate)\n",
    "\n",
    "def get_price_vec(year, sim_size):\n",
    "    '''Return the price of oil from the specified year'''\n",
    "    df_cols = df_price[['high_oil_price', 'low_oil_price', 'ref_oil_price']]\n",
    "    \n",
    "    prices = df_cols[df_price['year'] == year].values\n",
    "    price = np.random.triangular(right = prices[0][0], left = prices[0][1], mode = prices[0][2], size = sim_size)\n",
    "\n",
    "    price = np.atleast_2d([price])\n",
    "    \n",
    "    return(price)\n",
    "\n",
    "def n_barrels_matrix(sim_size):\n",
    "    '''Returns a simulated matrix. Number of columns = number of simulations,\n",
    "    number of rows = number of years (i.e., there will be 15 rows). \n",
    "    '''    \n",
    "    \n",
    "    # calculate the initial production rate and decline rate\n",
    "    dec_rate, ip_rate = get_rates_vec(sim_size)\n",
    "    annual_rate = 365 * ip_rate\n",
    "    \n",
    "    avg_prod_lst = []\n",
    "    \n",
    "    for j in range(15):\n",
    "        annual_rate_t0 = annual_rate\n",
    "        annual_rate = annual_rate*(1-dec_rate)\n",
    "        \n",
    "        avg_production = (annual_rate_t0 + annual_rate) / 2\n",
    "        avg_prod_lst.append(avg_production)\n",
    "        \n",
    "    matrix = np.array(avg_prod_lst)\n",
    "    \n",
    "    return(matrix)\n",
    "\n",
    "def get_annual_rev_matrix(sim_size):\n",
    "    ''' Return matrix of simulated total annual revenue for years 2021-2035\n",
    "            nrows = number of years\n",
    "            ncols = number of simulations\n",
    "    '''\n",
    "    barrels = n_barrels_matrix(sim_size) # matrix containing oil produced for each year \n",
    "    \n",
    "    rev = []\n",
    "    \n",
    "    n = 0\n",
    "    for i in range(2021, 2036):\n",
    "        # initial revenue\n",
    "        price = get_price_vec(i, sim_size) # price for year i\n",
    "        quantity = barrels[n, :] # quantity for year i \n",
    "        revenue = price * quantity\n",
    "        \n",
    "        # nri\n",
    "        nri_rate = np.random.normal(.75, .02, size = sim_size)\n",
    "        revenue_post_nri = revenue * nri_rate\n",
    "        \n",
    "        # tax\n",
    "        revenue_post_tax = revenue_post_nri*(1-.046)\n",
    "        \n",
    "        # operating expenses\n",
    "        oc_per_barrel = np.random.normal(2.25, .3, size = sim_size)\n",
    "        annual_oc = oc_per_barrel * quantity\n",
    "        \n",
    "        # total revenue \n",
    "        total_rev = revenue_post_tax - annual_oc        \n",
    "        rev.append(total_rev)        \n",
    "        n += 1\n",
    "        \n",
    "    rev = np.array(rev)\n",
    "    \n",
    "    return(rev)\n",
    "\n",
    "def sim_wet_npv_vec(sim_size):\n",
    "    '''Return vector of simulated NPVs, dimension of vector is [sim_size x 1]'''\n",
    "    \n",
    "    kde_values = drill_cost_sim(sim_size)\n",
    "    \n",
    "    overhead, initial_c = initial_cost_vec(kde_values, sim_size)\n",
    "    total_overhead = overhead * 15 # don't need to include in initial_cost, bc that has already been accounted for\n",
    "    \n",
    "    fnr = get_annual_rev_matrix(sim_size)\n",
    "    \n",
    "    weighted_fnr_total = 0\n",
    "    n = 0 \n",
    "    for i in range(1, 16):\n",
    "        weighted_fnr = fnr[n, :] / (1.1)**i\n",
    "        weighted_fnr_total += weighted_fnr\n",
    "        n += 1\n",
    "        \n",
    "    npv = np.array(weighted_fnr_total - initial_c - overhead)\n",
    "    \n",
    "    return(npv)"
   ]
  },
  {
   "cell_type": "markdown",
   "metadata": {},
   "source": [
    "# Dry Hole Risk "
   ]
  },
  {
   "cell_type": "markdown",
   "metadata": {},
   "source": [
    "## Histograms for hydrocarbons and resevoirs"
   ]
  },
  {
   "cell_type": "code",
   "execution_count": 8,
   "metadata": {
    "code_folding": [
     0,
     13
    ]
   },
   "outputs": [],
   "source": [
    "def prob_Hc(n):\n",
    "    from scipy.stats import truncnorm, bernoulli\n",
    "    \n",
    "    # hydrocarbons (lower, upper = bounds for distribution)\n",
    "    mean = .99\n",
    "    std = .05\n",
    "    lower = (0 - mean) / std\n",
    "    upper = (1 - mean) / std\n",
    "    hc_dist = truncnorm(loc = mean, scale = std, a = lower, b = upper)\n",
    "    hc_prob = hc_dist.rvs(n)\n",
    "    \n",
    "    return(hc_prob)\n",
    "\n",
    "def prob_Res(n):\n",
    "    from scipy.stats import truncnorm, bernoulli\n",
    "    \n",
    "    # resevoir\n",
    "    mean = .8\n",
    "    std = .1\n",
    "    lower = (0 - mean) / std\n",
    "    upper = (1 - mean) / std\n",
    "    res_dist = truncnorm(loc = mean, scale = std, a = lower, b = upper)\n",
    "    res_prob = res_dist.rvs(n)\n",
    "    \n",
    "    return(res_prob)"
   ]
  },
  {
   "cell_type": "code",
   "execution_count": 9,
   "metadata": {},
   "outputs": [
    {
     "data": {
      "image/png": "[encoded data removed]",
      "text/plain": [
       "<Figure size 432x288 with 1 Axes>"
      ]
     },
     "metadata": {
      "needs_background": "light"
     },
     "output_type": "display_data"
    }
   ],
   "source": [
    "%matplotlib inline\n",
    "import matplotlib.pyplot as plt\n",
    "\n",
    "sims = 1000000\n",
    "\n",
    "hc_dist = prob_Hc(sims)\n",
    "res_dist = prob_Res(sims)\n",
    "\n",
    "sns.distplot(hc_dist);\n",
    "plt.title('Hydrocarbon Distribution - {} Simulations'.format(sims)); "
   ]
  },
  {
   "cell_type": "code",
   "execution_count": 10,
   "metadata": {},
   "outputs": [
    {
     "data": {
      "image/png": "[encoded data removed]",
      "text/plain": [
       "<Figure size 432x288 with 1 Axes>"
      ]
     },
     "metadata": {
      "needs_background": "light"
     },
     "output_type": "display_data"
    }
   ],
   "source": [
    "sns.distplot(res_dist);\n",
    "plt.title('Resevoir Distribution - {} Simulations'.format(sims));"
   ]
  },
  {
   "cell_type": "markdown",
   "metadata": {},
   "source": [
    "## Simulate proportion of wet wells"
   ]
  },
  {
   "cell_type": "code",
   "execution_count": 12,
   "metadata": {
    "code_folding": [
     0
    ]
   },
   "outputs": [],
   "source": [
    "def prob_Wet(n):\n",
    "    '''Returns the probability that a well is wet. Each element of the vector corresponds to the probability\n",
    "    of one well having oil.'''\n",
    "    from scipy.stats import truncnorm, bernoulli\n",
    "    \n",
    "    # hydrocarbons (lower, upper = bounds for distribution)\n",
    "    mean = .99\n",
    "    std = .05\n",
    "    lower = (0 - mean) / std\n",
    "    upper = (1 - mean) / std\n",
    "    hc_dist = truncnorm(loc = mean, scale = std, a = lower, b = upper)\n",
    "    hc_prob = hc_dist.rvs(n)\n",
    "    \n",
    "        \n",
    "    # resevoir\n",
    "    mean = .8\n",
    "    std = .1\n",
    "    lower = (0 - mean) / std\n",
    "    upper = (1 - mean) / std\n",
    "    res_dist = truncnorm(loc = mean, scale = std, a = lower, b = upper)\n",
    "    res_prob = res_dist.rvs(n)\n",
    "    \n",
    "    # product of probabilities is p(well) = wet (resulting shape is (n, )) (i.e., 1-dimensional)\n",
    "    p_wet = hc_prob * res_prob\n",
    "    p_wet = np.array(p_wet)\n",
    "    \n",
    "    return(p_wet)"
   ]
  },
  {
   "cell_type": "code",
   "execution_count": 13,
   "metadata": {
    "code_folding": [
     0
    ]
   },
   "outputs": [],
   "source": [
    "def wet(sim_size, output):\n",
    "    '''Returns distribution of of the specified output parameter.\n",
    "        output parameter = [\"proportion\", \"n_wet\", \"wet_dry\"]\n",
    "    '''\n",
    "    from scipy.stats import truncnorm, bernoulli\n",
    "    \n",
    "    # validate output specification \n",
    "    if output not in ['proportion', 'n_wet', 'wet_dry']:\n",
    "        return('Output parameter invalid. Output must be one of [\"proportion\", \"n_wet\", \"wet_dry\"]')\n",
    "    \n",
    "    # vector of the number of planned wells (vector of length = sim_size)\n",
    "    n_planned_wells = np.random.randint(10, 31, sim_size) # for this function, the inputs for the bounds are [a, b).\n",
    "                                                            # that's why it's 10 to 31 instead of 10 to 30 \n",
    "    # calculate p(wet) for each well\n",
    "    wet_lst = []\n",
    "    dry_lst = []\n",
    "    \n",
    "    from tqdm import tqdm \n",
    "    for n in tqdm(n_planned_wells):\n",
    "        # create vector of size n for storing 1s and 0s and then summing the elements for calculating the \n",
    "        # number of wells that are actually wet\n",
    "        \n",
    "        sample_size = n\n",
    "        \n",
    "        # probability that well is wet\n",
    "        p_wet = prob_Wet(n)\n",
    "                  \n",
    "        # create bernouilli distribution with p_wet\n",
    "        well_dist = bernoulli(p_wet)\n",
    "        \n",
    "        # sample from the distribution (values = [0,1])\n",
    "        wet = well_dist.rvs(n) \n",
    "        \n",
    "        # sum elements of vector to determine number of wet wells\n",
    "        n_wet = np.sum(wet)\n",
    "        \n",
    "        # number of dry wells\n",
    "        n_dry = n - n_wet\n",
    "        \n",
    "        # proportion of wells that are wet (For the given simulation)\n",
    "        perc_wet = n_wet / n\n",
    "        \n",
    "        # conditions for returning the desired output\n",
    "        if output == 'proportion':\n",
    "            wet_lst.append(perc_wet)\n",
    "        \n",
    "        if output == 'n_wet':\n",
    "            wet_lst.append(n_wet)\n",
    "            \n",
    "        if output == 'wet_dry':\n",
    "            wet_lst.append(n_wet)\n",
    "            dry_lst.append(n_dry)\n",
    "    \n",
    "    if output in ['proportion', 'n_wet']:\n",
    "        return(wet_lst) \n",
    "    \n",
    "    else:\n",
    "        return(wet_lst, dry_lst)"
   ]
  },
  {
   "cell_type": "markdown",
   "metadata": {},
   "source": [
    "## Histogram of Proportion of Wet Wells"
   ]
  },
  {
   "cell_type": "code",
   "execution_count": 14,
   "metadata": {},
   "outputs": [
    {
     "name": "stderr",
     "output_type": "stream",
     "text": [
      "100%|███████████████████████████████████████████████████████████████████████| 1000000/1000000 [57:09<00:00, 291.56it/s]\n"
     ]
    },
    {
     "data": {
      "text/plain": [
       "<matplotlib.axes._subplots.AxesSubplot at 0x2d283b46e88>"
      ]
     },
     "execution_count": 14,
     "metadata": {},
     "output_type": "execute_result"
    },
    {
     "data": {
      "image/png": "[encoded data removed]",
      "text/plain": [
       "<Figure size 432x288 with 1 Axes>"
      ]
     },
     "metadata": {
      "needs_background": "light"
     },
     "output_type": "display_data"
    }
   ],
   "source": [
    "# 1 million simulations\n",
    "\n",
    "test_proportion = wet(1000000, output = 'proportion')\n",
    "\n",
    "sns.distplot(test_proportion)"
   ]
  },
  {
   "cell_type": "markdown",
   "metadata": {},
   "source": [
    "### Using plotnine as a ggplot replacement"
   ]
  },
  {
   "cell_type": "code",
   "execution_count": 38,
   "metadata": {},
   "outputs": [
    {
     "name": "stderr",
     "output_type": "stream",
     "text": [
      "C:\\Users\\Ryan Weisner\\Anaconda3\\lib\\site-packages\\plotnine\\layer.py:452: PlotnineWarning: geom_histogram : Removed 2 rows containing missing values.\n",
      "  self.data = self.geom.handle_na(self.data)\n"
     ]
    },
    {
     "data": {
      "image/png": "[encoded data removed]",
      "text/plain": [
       "<Figure size 640x480 with 1 Axes>"
      ]
     },
     "metadata": {},
     "output_type": "display_data"
    },
    {
     "data": {
      "text/plain": [
       "<ggplot: (-9223371842895907872)>"
      ]
     },
     "execution_count": 38,
     "metadata": {},
     "output_type": "execute_result"
    }
   ],
   "source": [
    "df_prop = pd.DataFrame(test_proportion)\n",
    "df_prop.columns = ['proportion']\n",
    "\n",
    "(\n",
    "    ggplot(data = df_prop, mapping = aes(x = 'proportion'))\n",
    "    + geom_histogram(bins = 30, fill = 'blue', color = 'black')\n",
    "    + xlim(0, 1)\n",
    "    + xlab('Proportion of Wet Wells')\n",
    "    + ylab('Frequency')\n",
    ")"
   ]
  },
  {
   "cell_type": "code",
   "execution_count": 41,
   "metadata": {},
   "outputs": [],
   "source": [
    "df_prop.to_csv('proportion_wet.csv')"
   ]
  },
  {
   "cell_type": "markdown",
   "metadata": {},
   "source": [
    "## Histogram of the Count of Wet wells"
   ]
  },
  {
   "cell_type": "code",
   "execution_count": 15,
   "metadata": {
    "scrolled": true
   },
   "outputs": [
    {
     "name": "stderr",
     "output_type": "stream",
     "text": [
      "100%|███████████████████████████████████████████████████████████████████████| 1000000/1000000 [54:34<00:00, 305.41it/s]\n"
     ]
    },
    {
     "data": {
      "text/plain": [
       "<matplotlib.axes._subplots.AxesSubplot at 0x2d28a80b6c8>"
      ]
     },
     "execution_count": 15,
     "metadata": {},
     "output_type": "execute_result"
    },
    {
     "data": {
      "image/png": "[encoded data removed]",
      "text/plain": [
       "<Figure size 432x288 with 1 Axes>"
      ]
     },
     "metadata": {
      "needs_background": "light"
     },
     "output_type": "display_data"
    }
   ],
   "source": [
    "import seaborn as sns\n",
    "\n",
    "test = wet(1000000, output = 'n_wet') # proportion = false\n",
    "\n",
    "sns.distplot(test)"
   ]
  },
  {
   "cell_type": "code",
   "execution_count": 22,
   "metadata": {},
   "outputs": [
    {
     "name": "stderr",
     "output_type": "stream",
     "text": [
      "C:\\Users\\Ryan Weisner\\Anaconda3\\lib\\site-packages\\plotnine\\layer.py:452: PlotnineWarning: geom_histogram : Removed 2 rows containing missing values.\n",
      "  self.data = self.geom.handle_na(self.data)\n"
     ]
    },
    {
     "data": {
      "image/png": "[encoded data removed]",
      "text/plain": [
       "<Figure size 640x480 with 1 Axes>"
      ]
     },
     "metadata": {},
     "output_type": "display_data"
    },
    {
     "data": {
      "text/plain": [
       "<ggplot: (-9223371842899128476)>"
      ]
     },
     "execution_count": 22,
     "metadata": {},
     "output_type": "execute_result"
    }
   ],
   "source": [
    "df_test = pd.DataFrame(test)\n",
    "df_test.columns = ['n_wet']\n",
    "\n",
    "(\n",
    "    ggplot(data = df_test, mapping = aes(x = 'n_wet'))\n",
    "    + geom_histogram(bins = 80)\n",
    "    + xlim(0, 30)\n",
    "    + xlab('Count of Wet Wells')\n",
    "    + ylab('Frequency')\n",
    ")"
   ]
  },
  {
   "cell_type": "markdown",
   "metadata": {},
   "source": [
    "# Final Simulation: Distribution of NPV for All Wells"
   ]
  },
  {
   "cell_type": "code",
   "execution_count": 16,
   "metadata": {},
   "outputs": [],
   "source": [
    "def final_sim(sim_size):\n",
    "    '''Return final distribution of NPVS by simulating the cost and NPV of dry and wet wells, and then \n",
    "    multiplying these by the simulated number of dry and wet wells.'''\n",
    "    \n",
    "    # simulate number of wet and dry wells\n",
    "    n_wet, n_dry = wet(sim_size, output = 'wet_dry')\n",
    "    \n",
    "    # cost of dry well\n",
    "    dry_cost = sim_dry_vec(sim_size)\n",
    "    \n",
    "    # NPV of wet well\n",
    "    wet_npv = sim_wet_npv_vec(sim_size)\n",
    "    \n",
    "    # vector of net npvs (each simulation has 1 final npv value)\n",
    "    net_npv = (n_wet * wet_npv) - (n_dry * dry_cost)\n",
    "    \n",
    "    # remove unnecessary dimensions\n",
    "    net_npv = net_npv.flatten()\n",
    "    \n",
    "    return(net_npv)"
   ]
  },
  {
   "cell_type": "code",
   "execution_count": 17,
   "metadata": {},
   "outputs": [
    {
     "name": "stderr",
     "output_type": "stream",
     "text": [
      "100%|███████████████████████████████████████████████████████████████████████| 1000000/1000000 [50:26<00:00, 330.46it/s]\n"
     ]
    },
    {
     "name": "stdout",
     "output_type": "stream",
     "text": [
      "Quantiles:\n",
      "-----\n"
     ]
    },
    {
     "data": {
      "text/html": [
       "<div>\n",
       "<style scoped>\n",
       "    .dataframe tbody tr th:only-of-type {\n",
       "        vertical-align: middle;\n",
       "    }\n",
       "\n",
       "    .dataframe tbody tr th {\n",
       "        vertical-align: top;\n",
       "    }\n",
       "\n",
       "    .dataframe thead th {\n",
       "        text-align: right;\n",
       "    }\n",
       "</style>\n",
       "<table border=\"1\" class=\"dataframe\">\n",
       "  <thead>\n",
       "    <tr style=\"text-align: right;\">\n",
       "      <th></th>\n",
       "      <th>0.01</th>\n",
       "      <th>0.01</th>\n",
       "      <th>0.05</th>\n",
       "      <th>0.25</th>\n",
       "      <th>0.50</th>\n",
       "      <th>0.75</th>\n",
       "      <th>0.95</th>\n",
       "      <th>0.99</th>\n",
       "      <th>0.99</th>\n",
       "    </tr>\n",
       "  </thead>\n",
       "  <tbody>\n",
       "    <tr>\n",
       "      <th>0</th>\n",
       "      <td>19714257.23</td>\n",
       "      <td>32782582.45</td>\n",
       "      <td>71316194.37</td>\n",
       "      <td>143672147.38</td>\n",
       "      <td>215508053.19</td>\n",
       "      <td>309181440.43</td>\n",
       "      <td>484082336.23</td>\n",
       "      <td>641361024.94</td>\n",
       "      <td>707881170.53</td>\n",
       "    </tr>\n",
       "  </tbody>\n",
       "</table>\n",
       "</div>"
      ],
      "text/plain": [
       "         0.01        0.01        0.05         0.25         0.50         0.75  \\\n",
       "0 19714257.23 32782582.45 71316194.37 143672147.38 215508053.19 309181440.43   \n",
       "\n",
       "          0.95         0.99         0.99  \n",
       "0 484082336.23 641361024.94 707881170.53  "
      ]
     },
     "execution_count": 17,
     "metadata": {},
     "output_type": "execute_result"
    },
    {
     "data": {
      "image/png": "[encoded data removed]",
      "text/plain": [
       "<Figure size 432x288 with 1 Axes>"
      ]
     },
     "metadata": {
      "needs_background": "light"
     },
     "output_type": "display_data"
    }
   ],
   "source": [
    "np.set_printoptions(suppress = True, formatter={'float_kind':'{:0.2f}'.format})\n",
    "\n",
    "sim_size = 1000000\n",
    "final_vals = final_sim(sim_size)\n",
    "\n",
    "graph = sns.distplot(final_vals)\n",
    "graph = plt.title('Distribution of Final NPVs, {} Simulations'.format(sim_size))\n",
    "\n",
    "print('Quantiles:\\n-----')\n",
    "q = [.005, .01, .05, .25, .5, .75, .95, .99, .995]\n",
    "pd.DataFrame(np.quantile(final_vals, q), index = q).T"
   ]
  },
  {
   "cell_type": "code",
   "execution_count": 29,
   "metadata": {},
   "outputs": [
    {
     "name": "stderr",
     "output_type": "stream",
     "text": [
      "C:\\Users\\Ryan Weisner\\Anaconda3\\lib\\site-packages\\plotnine\\layer.py:360: PlotnineWarning: stat_bin : Removed 20 rows containing non-finite values.\n",
      "  data = self.stat.compute_layer(data, params, layout)\n",
      "C:\\Users\\Ryan Weisner\\Anaconda3\\lib\\site-packages\\plotnine\\layer.py:452: PlotnineWarning: geom_histogram : Removed 2 rows containing missing values.\n",
      "  self.data = self.geom.handle_na(self.data)\n"
     ]
    },
    {
     "data": {
      "image/png": "[encoded data removed]",
      "text/plain": [
       "<Figure size 640x480 with 1 Axes>"
      ]
     },
     "metadata": {},
     "output_type": "display_data"
    },
    {
     "data": {
      "text/plain": [
       "<ggplot: (-9223371842897639208)>"
      ]
     },
     "execution_count": 29,
     "metadata": {},
     "output_type": "execute_result"
    }
   ],
   "source": [
    "df_net_npv = pd.DataFrame(final_vals)\n",
    "df_net_npv.columns = ['npv']\n",
    "\n",
    "(\n",
    "    ggplot(data = df_net_npv, mapping = aes(x = 'npv'))\n",
    "    + geom_histogram(bins = 80, fill = 'blue')\n",
    "    + xlim(-150000000,1300000000)\n",
    "    + xlab('Net Present Value')\n",
    "    + ylab('Frequency')\n",
    ")"
   ]
  },
  {
   "cell_type": "code",
   "execution_count": 40,
   "metadata": {},
   "outputs": [],
   "source": [
    "df_net_npv.to_csv('net_npv.csv')"
   ]
  },
  {
   "cell_type": "markdown",
   "metadata": {},
   "source": [
    "## Expected Shortfall"
   ]
  },
  {
   "cell_type": "code",
   "execution_count": 42,
   "metadata": {
    "scrolled": true
   },
   "outputs": [],
   "source": [
    "def es(quantiles):\n",
    "    '''Calculate and return the Expected Shortfall for each quantile specified by the user.\n",
    "        \n",
    "    The parameter should be array-like or iterable. \n",
    "    '''\n",
    "    \n",
    "    es_lst = []\n",
    "    \n",
    "    for q in quantiles:\n",
    "        # number of observations to get for the given quantile\n",
    "        n = 1000000 * q\n",
    "        \n",
    "        top_n = df_net_npv.nsmallest(int(n), 'npv')\n",
    "        \n",
    "        es = top_n.mean().values\n",
    "        \n",
    "        print(str(q) + ' shortfall: ' + str(es))\n",
    "        \n",
    "        es_lst.append(es)\n",
    "        \n",
    "    return(es_lst)"
   ]
  },
  {
   "cell_type": "code",
   "execution_count": 45,
   "metadata": {},
   "outputs": [
    {
     "name": "stdout",
     "output_type": "stream",
     "text": [
      "0.001 shortfall: [-24533640.78]\n",
      "0.005 shortfall: [2631216.45]\n",
      "0.01 shortfall: [14769419.24]\n",
      "0.05 shortfall: [47452412.08]\n",
      "0.1 shortfall: [65710087.10]\n",
      "0.25 shortfall: [98692095.18]\n"
     ]
    }
   ],
   "source": [
    "q = [.001, .005, .01, .05, .10, .25]\n",
    "\n",
    "expected_short_fall = es(q)"
   ]
  },
  {
   "cell_type": "code",
   "execution_count": 44,
   "metadata": {},
   "outputs": [
    {
     "data": {
      "text/html": [
       "<div>\n",
       "<style scoped>\n",
       "    .dataframe tbody tr th:only-of-type {\n",
       "        vertical-align: middle;\n",
       "    }\n",
       "\n",
       "    .dataframe tbody tr th {\n",
       "        vertical-align: top;\n",
       "    }\n",
       "\n",
       "    .dataframe thead th {\n",
       "        text-align: right;\n",
       "    }\n",
       "</style>\n",
       "<table border=\"1\" class=\"dataframe\">\n",
       "  <thead>\n",
       "    <tr style=\"text-align: right;\">\n",
       "      <th></th>\n",
       "      <th>0.00</th>\n",
       "      <th>0.01</th>\n",
       "      <th>0.01</th>\n",
       "      <th>0.05</th>\n",
       "      <th>0.10</th>\n",
       "    </tr>\n",
       "  </thead>\n",
       "  <tbody>\n",
       "    <tr>\n",
       "      <th>0</th>\n",
       "      <td>-24533640.78</td>\n",
       "      <td>2631216.45</td>\n",
       "      <td>14769419.24</td>\n",
       "      <td>47452412.08</td>\n",
       "      <td>65710087.10</td>\n",
       "    </tr>\n",
       "  </tbody>\n",
       "</table>\n",
       "</div>"
      ],
      "text/plain": [
       "          0.00       0.01        0.01        0.05        0.10\n",
       "0 -24533640.78 2631216.45 14769419.24 47452412.08 65710087.10"
      ]
     },
     "execution_count": 44,
     "metadata": {},
     "output_type": "execute_result"
    }
   ],
   "source": [
    "pd.DataFrame(expected_short_fall, index = q).T"
   ]
  },
  {
   "cell_type": "code",
   "execution_count": 48,
   "metadata": {},
   "outputs": [],
   "source": [
    "def er(quantiles):\n",
    "    '''Calculate and return the Expected Returns for each quantile specified by the user.\n",
    "        \n",
    "    The parameter should be array-like or iterable. \n",
    "    '''\n",
    "    \n",
    "    es_lst = []\n",
    "    \n",
    "    for q in quantiles:\n",
    "        # number of observations to get for the given quantile\n",
    "        n = 1000000 * q\n",
    "        \n",
    "        top_n = df_net_npv.nlargest(int(n), 'npv')\n",
    "        \n",
    "        es = top_n.mean().values\n",
    "        \n",
    "        print(str(q) + ' average return: ' + str(es))\n",
    "        \n",
    "        es_lst.append(es)\n",
    "        \n",
    "    return(es_lst)"
   ]
  },
  {
   "cell_type": "code",
   "execution_count": 49,
   "metadata": {},
   "outputs": [
    {
     "name": "stdout",
     "output_type": "stream",
     "text": [
      "0.001 average return: [965640674.62]\n",
      "0.005 average return: [805713558.47]\n",
      "0.01 average return: [738389330.52]\n",
      "0.05 average return: [582240085.49]\n",
      "0.1 average return: [513435481.73]\n",
      "0.25 average return: [418041593.90]\n"
     ]
    }
   ],
   "source": [
    "q = [.001, .005, .01, .05, .10, .25]\n",
    "\n",
    "expected_returns = er(q)"
   ]
  }
 ],
 "metadata": {
  "kernelspec": {
   "display_name": "Python 3",
   "language": "python",
   "name": "python3"
  },
  "language_info": {
   "codemirror_mode": {
    "name": "ipython",
    "version": 3
   },
   "file_extension": ".py",
   "mimetype": "text/x-python",
   "name": "python",
   "nbconvert_exporter": "python",
   "pygments_lexer": "ipython3",
   "version": "3.7.4"
  },
  "toc": {
   "base_numbering": 1,
   "nav_menu": {},
   "number_sections": false,
   "sideBar": true,
   "skip_h1_title": false,
   "title_cell": "Table of Contents",
   "title_sidebar": "Contents",
   "toc_cell": false,
   "toc_position": {},
   "toc_section_display": true,
   "toc_window_display": false
  },
  "varInspector": {
   "cols": {
    "lenName": 16,
    "lenType": 16,
    "lenVar": 40
   },
   "kernels_config": {
    "python": {
     "delete_cmd_postfix": "",
     "delete_cmd_prefix": "del ",
     "library": "var_list.py",
     "varRefreshCmd": "print(var_dic_list())"
    },
    "r": {
     "delete_cmd_postfix": ") ",
     "delete_cmd_prefix": "rm(",
     "library": "var_list.r",
     "varRefreshCmd": "cat(var_dic_list()) "
    }
   },
   "types_to_exclude": [
    "module",
    "function",
    "builtin_function_or_method",
    "instance",
    "_Feature"
   ],
   "window_display": false
  }
 },
 "nbformat": 4,
 "nbformat_minor": 2
}
