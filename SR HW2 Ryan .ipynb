{
 "cells": [
  {
   "cell_type": "markdown",
   "metadata": {},
   "source": [
    "# Simulation and Risk Homework 2\n",
    "***\n",
    "*Ryan Weisner, February 11th, 2020*  \n",
    "\n",
    "## Assignment\n",
    "### Year 0 Expenses (i.e., fixed costs), costs that occur before oil production begins\n",
    "- Need to purchase seismic data and leases for the right to drill in the land\n",
    "    - Leases\n",
    "        - $ Acres_w \\sim N(\\mu = 600, \\sigma = 60) $\n",
    "        - $ Cost\\:per\\:acre = 960$\n",
    "        \n",
    "    - Seismic data\n",
    "        - $ Seismic\\:sections_w \\sim N(\\mu = 3, \\sigma = .35) $\n",
    "        - $ Cost\\:per\\:section = 43,000 $"
   ]
  },
  {
   "cell_type": "markdown",
   "metadata": {},
   "source": [
    "- Completition costs\n",
    "    - If there is oil present: $ Completion\\:Cost_w \\sim N(\\mu = 390000, \\sigma = 50000) $"
   ]
  },
  {
   "cell_type": "markdown",
   "metadata": {},
   "source": [
    "- Professional Overhead (**annual**)\n",
    "    - Depends on time spent on the well\n",
    "    - $ Overhead_{t=0, w} \\sim tri(min = 172000, mean = 215000, max = 279500) $\n",
    "    - If the well isn't dry, then this cost is incurred for each year $ t $"
   ]
  },
  {
   "cell_type": "markdown",
   "metadata": {},
   "source": [
    "## Production Risk\n",
    "- How many barrels of oil can be produced per year? How will this production rate decline over time?  \n",
    "\n",
    "$$ production\\:rate_{t+1, w} = (1 - decline\\:rate_w) * (production\\:rate_{t, w}) $$\n",
    "\n",
    "$$ decline\\:rate_w \\sim Uniform(.15,.32) $$\n",
    "\n",
    "$$ oil_{t, w} = 365 * \\frac{production\\:rate_{t,w} + production\\:rate_{t+1,w}}{2} $$\n",
    "\n",
    "$$ oil_{t=1, w} = 365 * production\\:rate_{t=1, w} $$\n",
    "\n",
    "$$ production\\:rate_{t=1, w} \\sim LogN(\\mu = 153,300\\:, \\sigma = \\:\\:43,800) $$\n",
    "\n",
    "$$ corr(production\\:rate_{t=1, w}, decline\\:rate_w) = .64 $$\n",
    "\n",
    "where $ \\frac{production\\:rate_t + production\\:rate_{t+1}}{2} $ is simply the average production rate for year $ t $  \n",
    "  \n",
    "- The decline rate will remain constant **for each well**, but each will have its own decline rate\n",
    "- the production for year 1 is follows a lognormal distribution with a mean of (420 * 365) = 153.3k and std of (120 * 365) = 43.8k"
   ]
  },
  {
   "cell_type": "markdown",
   "metadata": {},
   "source": [
    "## Revenue Risk \n",
    "- **use the price projections file to to create triangle distribution** \n",
    "\n",
    "$$ Revenue_t = price_t * oil_t $$\n",
    "$$ oil_t = \\sum_{w=1}^{W} oil_{t,w} $$\n",
    "$$ Total\\:Rev_t = Revenue_t*NRI_t$$\n",
    "$$ NRI \\sim N(\\mu = .75, \\sigma = .02) $$ "
   ]
  },
  {
   "cell_type": "markdown",
   "metadata": {},
   "source": [
    "## Operating Expenses\n",
    "$$ OC_t \\sim N(\\mu = 2.25, \\sigma = .30) $$\n",
    "\n",
    "Annual Operating Costs for all wells in year $ t $  \n",
    "$\\sum_{w=1}^{W} oil_{t,w}$ is number of barrels produced\n",
    "\n",
    "$$ Annual\\:OC_t = OC_t * \\sum_{w=1}^{W} oil_{t,w} $$  \n",
    "\n",
    "Taxes \n",
    "$$ Taxes = Total\\:Rev_t * .046 $$\n",
    "\n",
    "Final Net Revenue\n",
    "$$FNR_t = Total\\:Rev_t - Taxes_t - Annual\\:OC_t $$"
   ]
  },
  {
   "cell_type": "markdown",
   "metadata": {},
   "source": [
    "## Net Present Value Calculation \n",
    "\n",
    "$$ NPV = -Initial\\:Costs + \\frac{FNR_t}{1 + WACC} + \\frac{FNR_{t+1}}{(1 + WACC)^2} + \\dots $$\n",
    "\n",
    "\n",
    "$$ WACC = .1 $$"
   ]
  },
  {
   "cell_type": "markdown",
   "metadata": {},
   "source": [
    "## Load data"
   ]
  },
  {
   "cell_type": "code",
   "execution_count": 2,
   "metadata": {
    "code_folding": []
   },
   "outputs": [
    {
     "data": {
      "text/html": [
       "<div>\n",
       "<style scoped>\n",
       "    .dataframe tbody tr th:only-of-type {\n",
       "        vertical-align: middle;\n",
       "    }\n",
       "\n",
       "    .dataframe tbody tr th {\n",
       "        vertical-align: top;\n",
       "    }\n",
       "\n",
       "    .dataframe thead th {\n",
       "        text-align: right;\n",
       "    }\n",
       "</style>\n",
       "<table border=\"1\" class=\"dataframe\">\n",
       "  <thead>\n",
       "    <tr style=\"text-align: right;\">\n",
       "      <th></th>\n",
       "      <th>date</th>\n",
       "      <th>oil_k</th>\n",
       "      <th>gas_k</th>\n",
       "      <th>well_k</th>\n",
       "      <th>dx_oil</th>\n",
       "      <th>dx_gas</th>\n",
       "      <th>dx_well</th>\n",
       "      <th>avg_dx_oil_gas_well</th>\n",
       "    </tr>\n",
       "  </thead>\n",
       "  <tbody>\n",
       "    <tr>\n",
       "      <th>0</th>\n",
       "      <td>1991</td>\n",
       "      <td>346.90</td>\n",
       "      <td>506.60</td>\n",
       "      <td>441.20</td>\n",
       "      <td>0.08</td>\n",
       "      <td>0.07</td>\n",
       "      <td>0.20</td>\n",
       "      <td>0.12</td>\n",
       "    </tr>\n",
       "    <tr>\n",
       "      <th>1</th>\n",
       "      <td>1992</td>\n",
       "      <td>362.30</td>\n",
       "      <td>426.10</td>\n",
       "      <td>357.60</td>\n",
       "      <td>0.04</td>\n",
       "      <td>-0.16</td>\n",
       "      <td>-0.19</td>\n",
       "      <td>-0.10</td>\n",
       "    </tr>\n",
       "    <tr>\n",
       "      <th>2</th>\n",
       "      <td>1993</td>\n",
       "      <td>356.60</td>\n",
       "      <td>521.20</td>\n",
       "      <td>387.70</td>\n",
       "      <td>-0.02</td>\n",
       "      <td>0.22</td>\n",
       "      <td>0.08</td>\n",
       "      <td>0.10</td>\n",
       "    </tr>\n",
       "    <tr>\n",
       "      <th>3</th>\n",
       "      <td>1994</td>\n",
       "      <td>409.50</td>\n",
       "      <td>535.10</td>\n",
       "      <td>491.50</td>\n",
       "      <td>0.15</td>\n",
       "      <td>0.03</td>\n",
       "      <td>0.27</td>\n",
       "      <td>0.15</td>\n",
       "    </tr>\n",
       "    <tr>\n",
       "      <th>4</th>\n",
       "      <td>1995</td>\n",
       "      <td>415.80</td>\n",
       "      <td>629.70</td>\n",
       "      <td>481.20</td>\n",
       "      <td>0.02</td>\n",
       "      <td>0.18</td>\n",
       "      <td>-0.02</td>\n",
       "      <td>0.06</td>\n",
       "    </tr>\n",
       "    <tr>\n",
       "      <th>5</th>\n",
       "      <td>1996</td>\n",
       "      <td>341.00</td>\n",
       "      <td>616.00</td>\n",
       "      <td>541.00</td>\n",
       "      <td>-0.18</td>\n",
       "      <td>-0.02</td>\n",
       "      <td>0.12</td>\n",
       "      <td>-0.03</td>\n",
       "    </tr>\n",
       "    <tr>\n",
       "      <th>6</th>\n",
       "      <td>1997</td>\n",
       "      <td>445.60</td>\n",
       "      <td>728.60</td>\n",
       "      <td>655.60</td>\n",
       "      <td>0.31</td>\n",
       "      <td>0.18</td>\n",
       "      <td>0.21</td>\n",
       "      <td>0.23</td>\n",
       "    </tr>\n",
       "    <tr>\n",
       "      <th>7</th>\n",
       "      <td>1998</td>\n",
       "      <td>566.00</td>\n",
       "      <td>815.60</td>\n",
       "      <td>973.20</td>\n",
       "      <td>0.27</td>\n",
       "      <td>0.12</td>\n",
       "      <td>0.48</td>\n",
       "      <td>0.29</td>\n",
       "    </tr>\n",
       "    <tr>\n",
       "      <th>8</th>\n",
       "      <td>1999</td>\n",
       "      <td>783.00</td>\n",
       "      <td>798.40</td>\n",
       "      <td>1115.50</td>\n",
       "      <td>0.38</td>\n",
       "      <td>-0.02</td>\n",
       "      <td>0.15</td>\n",
       "      <td>0.17</td>\n",
       "    </tr>\n",
       "    <tr>\n",
       "      <th>9</th>\n",
       "      <td>2000</td>\n",
       "      <td>593.40</td>\n",
       "      <td>756.90</td>\n",
       "      <td>1075.40</td>\n",
       "      <td>-0.24</td>\n",
       "      <td>-0.05</td>\n",
       "      <td>-0.04</td>\n",
       "      <td>-0.11</td>\n",
       "    </tr>\n",
       "    <tr>\n",
       "      <th>10</th>\n",
       "      <td>2001</td>\n",
       "      <td>729.10</td>\n",
       "      <td>896.50</td>\n",
       "      <td>1620.40</td>\n",
       "      <td>0.23</td>\n",
       "      <td>0.18</td>\n",
       "      <td>0.51</td>\n",
       "      <td>0.31</td>\n",
       "    </tr>\n",
       "    <tr>\n",
       "      <th>11</th>\n",
       "      <td>2002</td>\n",
       "      <td>882.80</td>\n",
       "      <td>991.90</td>\n",
       "      <td>1673.40</td>\n",
       "      <td>0.21</td>\n",
       "      <td>0.11</td>\n",
       "      <td>0.03</td>\n",
       "      <td>0.12</td>\n",
       "    </tr>\n",
       "    <tr>\n",
       "      <th>12</th>\n",
       "      <td>2003</td>\n",
       "      <td>1037.30</td>\n",
       "      <td>1106.00</td>\n",
       "      <td>2065.10</td>\n",
       "      <td>0.17</td>\n",
       "      <td>0.12</td>\n",
       "      <td>0.23</td>\n",
       "      <td>0.17</td>\n",
       "    </tr>\n",
       "    <tr>\n",
       "      <th>13</th>\n",
       "      <td>2004</td>\n",
       "      <td>1441.80</td>\n",
       "      <td>1716.40</td>\n",
       "      <td>1977.30</td>\n",
       "      <td>0.39</td>\n",
       "      <td>0.55</td>\n",
       "      <td>-0.04</td>\n",
       "      <td>0.30</td>\n",
       "    </tr>\n",
       "    <tr>\n",
       "      <th>14</th>\n",
       "      <td>2005</td>\n",
       "      <td>1920.40</td>\n",
       "      <td>1497.60</td>\n",
       "      <td>2392.90</td>\n",
       "      <td>0.33</td>\n",
       "      <td>-0.13</td>\n",
       "      <td>0.21</td>\n",
       "      <td>0.14</td>\n",
       "    </tr>\n",
       "    <tr>\n",
       "      <th>15</th>\n",
       "      <td>2006</td>\n",
       "      <td>2238.60</td>\n",
       "      <td>1936.20</td>\n",
       "      <td>2664.60</td>\n",
       "      <td>0.17</td>\n",
       "      <td>0.29</td>\n",
       "      <td>0.11</td>\n",
       "      <td>0.19</td>\n",
       "    </tr>\n",
       "  </tbody>\n",
       "</table>\n",
       "</div>"
      ],
      "text/plain": [
       "    date   oil_k   gas_k  well_k  dx_oil  dx_gas  dx_well  avg_dx_oil_gas_well\n",
       "0   1991  346.90  506.60  441.20    0.08    0.07     0.20                 0.12\n",
       "1   1992  362.30  426.10  357.60    0.04   -0.16    -0.19                -0.10\n",
       "2   1993  356.60  521.20  387.70   -0.02    0.22     0.08                 0.10\n",
       "3   1994  409.50  535.10  491.50    0.15    0.03     0.27                 0.15\n",
       "4   1995  415.80  629.70  481.20    0.02    0.18    -0.02                 0.06\n",
       "5   1996  341.00  616.00  541.00   -0.18   -0.02     0.12                -0.03\n",
       "6   1997  445.60  728.60  655.60    0.31    0.18     0.21                 0.23\n",
       "7   1998  566.00  815.60  973.20    0.27    0.12     0.48                 0.29\n",
       "8   1999  783.00  798.40 1115.50    0.38   -0.02     0.15                 0.17\n",
       "9   2000  593.40  756.90 1075.40   -0.24   -0.05    -0.04                -0.11\n",
       "10  2001  729.10  896.50 1620.40    0.23    0.18     0.51                 0.31\n",
       "11  2002  882.80  991.90 1673.40    0.21    0.11     0.03                 0.12\n",
       "12  2003 1037.30 1106.00 2065.10    0.17    0.12     0.23                 0.17\n",
       "13  2004 1441.80 1716.40 1977.30    0.39    0.55    -0.04                 0.30\n",
       "14  2005 1920.40 1497.60 2392.90    0.33   -0.13     0.21                 0.14\n",
       "15  2006 2238.60 1936.20 2664.60    0.17    0.29     0.11                 0.19"
      ]
     },
     "execution_count": 2,
     "metadata": {},
     "output_type": "execute_result"
    },
    {
     "data": {
      "text/html": [
       "<div>\n",
       "<style scoped>\n",
       "    .dataframe tbody tr th:only-of-type {\n",
       "        vertical-align: middle;\n",
       "    }\n",
       "\n",
       "    .dataframe tbody tr th {\n",
       "        vertical-align: top;\n",
       "    }\n",
       "\n",
       "    .dataframe thead th {\n",
       "        text-align: right;\n",
       "    }\n",
       "</style>\n",
       "<table border=\"1\" class=\"dataframe\">\n",
       "  <thead>\n",
       "    <tr style=\"text-align: right;\">\n",
       "      <th></th>\n",
       "      <th>year</th>\n",
       "      <th>high_oil_price</th>\n",
       "      <th>low_oil_price</th>\n",
       "      <th>ref_oil_price</th>\n",
       "    </tr>\n",
       "  </thead>\n",
       "  <tbody>\n",
       "    <tr>\n",
       "      <th>0</th>\n",
       "      <td>2021</td>\n",
       "      <td>135.53</td>\n",
       "      <td>25.29</td>\n",
       "      <td>69.90</td>\n",
       "    </tr>\n",
       "    <tr>\n",
       "      <th>1</th>\n",
       "      <td>2022</td>\n",
       "      <td>144.16</td>\n",
       "      <td>25.50</td>\n",
       "      <td>72.68</td>\n",
       "    </tr>\n",
       "    <tr>\n",
       "      <th>2</th>\n",
       "      <td>2023</td>\n",
       "      <td>150.80</td>\n",
       "      <td>26.15</td>\n",
       "      <td>74.80</td>\n",
       "    </tr>\n",
       "    <tr>\n",
       "      <th>3</th>\n",
       "      <td>2024</td>\n",
       "      <td>157.06</td>\n",
       "      <td>26.62</td>\n",
       "      <td>75.94</td>\n",
       "    </tr>\n",
       "    <tr>\n",
       "      <th>4</th>\n",
       "      <td>2025</td>\n",
       "      <td>162.42</td>\n",
       "      <td>26.99</td>\n",
       "      <td>77.02</td>\n",
       "    </tr>\n",
       "    <tr>\n",
       "      <th>5</th>\n",
       "      <td>2026</td>\n",
       "      <td>157.90</td>\n",
       "      <td>26.48</td>\n",
       "      <td>77.18</td>\n",
       "    </tr>\n",
       "    <tr>\n",
       "      <th>6</th>\n",
       "      <td>2027</td>\n",
       "      <td>164.09</td>\n",
       "      <td>26.90</td>\n",
       "      <td>77.45</td>\n",
       "    </tr>\n",
       "    <tr>\n",
       "      <th>7</th>\n",
       "      <td>2028</td>\n",
       "      <td>165.25</td>\n",
       "      <td>27.59</td>\n",
       "      <td>78.72</td>\n",
       "    </tr>\n",
       "    <tr>\n",
       "      <th>8</th>\n",
       "      <td>2029</td>\n",
       "      <td>171.67</td>\n",
       "      <td>28.11</td>\n",
       "      <td>80.20</td>\n",
       "    </tr>\n",
       "    <tr>\n",
       "      <th>9</th>\n",
       "      <td>2030</td>\n",
       "      <td>173.03</td>\n",
       "      <td>28.64</td>\n",
       "      <td>81.34</td>\n",
       "    </tr>\n",
       "    <tr>\n",
       "      <th>10</th>\n",
       "      <td>2031</td>\n",
       "      <td>174.40</td>\n",
       "      <td>29.58</td>\n",
       "      <td>82.91</td>\n",
       "    </tr>\n",
       "    <tr>\n",
       "      <th>11</th>\n",
       "      <td>2032</td>\n",
       "      <td>177.23</td>\n",
       "      <td>29.73</td>\n",
       "      <td>84.12</td>\n",
       "    </tr>\n",
       "    <tr>\n",
       "      <th>12</th>\n",
       "      <td>2033</td>\n",
       "      <td>178.92</td>\n",
       "      <td>30.76</td>\n",
       "      <td>85.35</td>\n",
       "    </tr>\n",
       "    <tr>\n",
       "      <th>13</th>\n",
       "      <td>2034</td>\n",
       "      <td>181.14</td>\n",
       "      <td>31.48</td>\n",
       "      <td>86.26</td>\n",
       "    </tr>\n",
       "    <tr>\n",
       "      <th>14</th>\n",
       "      <td>2035</td>\n",
       "      <td>184.92</td>\n",
       "      <td>32.28</td>\n",
       "      <td>87.27</td>\n",
       "    </tr>\n",
       "  </tbody>\n",
       "</table>\n",
       "</div>"
      ],
      "text/plain": [
       "    year  high_oil_price  low_oil_price  ref_oil_price\n",
       "0   2021          135.53          25.29          69.90\n",
       "1   2022          144.16          25.50          72.68\n",
       "2   2023          150.80          26.15          74.80\n",
       "3   2024          157.06          26.62          75.94\n",
       "4   2025          162.42          26.99          77.02\n",
       "5   2026          157.90          26.48          77.18\n",
       "6   2027          164.09          26.90          77.45\n",
       "7   2028          165.25          27.59          78.72\n",
       "8   2029          171.67          28.11          80.20\n",
       "9   2030          173.03          28.64          81.34\n",
       "10  2031          174.40          29.58          82.91\n",
       "11  2032          177.23          29.73          84.12\n",
       "12  2033          178.92          30.76          85.35\n",
       "13  2034          181.14          31.48          86.26\n",
       "14  2035          184.92          32.28          87.27"
      ]
     },
     "execution_count": 2,
     "metadata": {},
     "output_type": "execute_result"
    }
   ],
   "source": [
    "# load data\n",
    "\n",
    "from IPython.core.interactiveshell import InteractiveShell\n",
    "InteractiveShell.ast_node_interactivity = \"all\"\n",
    "import numpy as np\n",
    "np.random.seed(69)\n",
    "import statistics\n",
    "import pandas as pd\n",
    "pd.options.display.float_format = '{:.2f}'.format\n",
    "\n",
    "# import data, drop unnecessary years, and set variable types\n",
    "df = pd.read_csv('drill_costs.csv')\n",
    "df = df[(df['date'] > 1990) & (df['date'] != 2007)]\n",
    "df = df.reset_index(drop=True)\n",
    "df['avg_dx_oil_gas_well'] = df['avg_dx_oil_gas_well'].astype(float)\n",
    "df['dx_gas'] = df['dx_gas'].astype(float)\n",
    "df['dx_oil'] = df['dx_oil'].astype(float)\n",
    "df['dx_well'] = df['dx_well'].astype(float)\n",
    "df_cost = df\n",
    "\n",
    "df_price = pd.read_csv('oil_price_projections.csv')\n",
    "df_price = df_price[(df_price['year'] <= 2035) & (df_price['year'] != 2020)]\n",
    "df_price = df_price.reset_index(drop=True)\n",
    "\n",
    "df_cost\n",
    "df_price"
   ]
  },
  {
   "cell_type": "markdown",
   "metadata": {},
   "source": [
    "### Preliminary functions for the KDE drill cost distribution"
   ]
  },
  {
   "cell_type": "code",
   "execution_count": 3,
   "metadata": {
    "code_folding": []
   },
   "outputs": [],
   "source": [
    "# function for generating kde\n",
    "from sklearn.neighbors import KernelDensity\n",
    "from scipy.stats import gaussian_kde\n",
    "\n",
    "def kde_sklearn(x, x_grid, bandwidth=0.2, **kwargs):\n",
    "    \"\"\"Kernel Density Estimation with Scikit-learn\"\"\"\n",
    "    kde_skl = KernelDensity(bandwidth=bandwidth, **kwargs)\n",
    "    kde_skl.fit(x[:, np.newaxis])\n",
    "    # score_samples() returns the log-likelihood of the samples\n",
    "    log_pdf = kde_skl.score_samples(x_grid[:, np.newaxis])\n",
    "    return np.exp(log_pdf)\n",
    "\n",
    "def kde_sample(x, x_grid, n, bandwidth=.02):\n",
    "    \"\"\"return random sample from KDE\"\"\"\n",
    "    kde_skl = KernelDensity(bandwidth=bandwidth)\n",
    "    kde_skl.fit(x[:, np.newaxis])\n",
    "    sample = kde_skl.sample(n_samples = n)\n",
    "    return(sample)"
   ]
  },
  {
   "cell_type": "code",
   "execution_count": 7,
   "metadata": {
    "code_folding": []
   },
   "outputs": [],
   "source": [
    "def drill_cost_sim(sim_size, bandwidth = .0521, \n",
    "               t_min1 = -.22, t_mean1 = -.0917, t_max1 = -.07,\n",
    "               t_min2 = .02, t_mean2 = .05, t_max2 = .06):\n",
    "    '''Simulate distribution of drilling costs for 2020 using the KDE for 2008-2012.'''\n",
    "\n",
    "    from sklearn.neighbors import KernelDensity\n",
    "    from scipy.stats import gaussian_kde\n",
    "        \n",
    "    sim_size = sim_size*2\n",
    "    \n",
    "    # average cost for 2006\n",
    "    cost_t0 = np.mean(\n",
    "    df[['oil_k','gas_k', 'well_k']][df['date'] == 2006].values)\n",
    "\n",
    "    # input variables\n",
    "    ls = [df['dx_gas'], df['dx_oil'], df['dx_well']]\n",
    "    x = [item for sublist in ls for item in sublist] # get all columns values into a flat list\n",
    "        \n",
    "    # for kde sampling    \n",
    "    x_d = np.linspace(-.5, .5, 100000)  \n",
    "    x = np.array(x) \n",
    "    \n",
    "    # 2007\n",
    "    dx = kde_sample(x, x_d, n = sim_size, bandwidth=bandwidth)\n",
    "    cost_t = cost_t0*(1+dx)\n",
    "    \n",
    "    for i in range(2008,2013):            \n",
    "        dx = kde_sample(x, x_d, n = sim_size, bandwidth = bandwidth)\n",
    "        cost_t = cost_t*(1+dx)\n",
    "    \n",
    "    for i in range(2013, 2016):\n",
    "        dx = np.random.triangular(left = t_min1, mode = t_mean1, right = t_max1, size = sim_size)\n",
    "        dx = np.array([[item] for item in dx])\n",
    "        cost_t = cost_t*(1+dx) \n",
    "        \n",
    "    for i in range(2016, 2021):\n",
    "        dx = np.random.triangular(left = t_min2, mode = t_mean2, right = t_max2, size = sim_size)\n",
    "        dx = np.array([[item] for item in dx])\n",
    "        cost_t = cost_t*(1+dx) \n",
    "    \n",
    "    return(cost_t.flatten())"
   ]
  },
  {
   "cell_type": "code",
   "execution_count": 8,
   "metadata": {
    "code_folding": []
   },
   "outputs": [],
   "source": [
    "def get_drill_cost_vec(kde_values, sim_size):\n",
    "    '''Draw a sample from the KDE to be used as the drilling cost.'''\n",
    "    \n",
    "    import random\n",
    "    samp = random.sample(kde_values, k = sim_size)\n",
    "    samp = np.array(samp)\n",
    "    samp = samp.flatten()\n",
    "    \n",
    "    return(samp)"
   ]
  },
  {
   "cell_type": "markdown",
   "metadata": {},
   "source": [
    "# Simulate Cost of Single Dry Well\n",
    "$$ cost_{dry} = acres(960) + sections(43000) + overhead + drilling\\:cost_{2006} $$\n",
    "\n",
    "$$ acres_w \\sim N(\\mu = 600, \\sigma = 60) $$    \n",
    "\n",
    "$$ sections_w \\sim N(\\mu = 3, \\sigma = .35) $$ \n",
    "\n",
    "$$ Overhead_{t=0, w} \\sim tri(min = 172000, mean = 215000, max = 279500) $$"
   ]
  },
  {
   "cell_type": "markdown",
   "metadata": {},
   "source": [
    "## Dry Well simulation (vectors)"
   ]
  },
  {
   "cell_type": "code",
   "execution_count": 9,
   "metadata": {
    "code_folding": []
   },
   "outputs": [],
   "source": [
    "def sim_dry_vec(sim_size):\n",
    "    drill_cost_dist = drill_cost_sim(sim_size)\n",
    "    drill_cost_dist = list(drill_cost_dist)\n",
    "    \n",
    "    # unit costs\n",
    "    cost_per_acre = 960\n",
    "    cost_per_section = 43000\n",
    "    \n",
    "    # simulate (overhead will need to be added for future years as well)\n",
    "    n_acres = np.random.normal(600, 60, size = sim_size) \n",
    "    n_sections = np.random.normal(3, .35, size = sim_size) \n",
    "    overhead = np.random.triangular(left = 172000, mode = 215000, right = 279500, size = sim_size)\n",
    "    \n",
    "    # sample from the KDE distribution and use this as the drilling cost\n",
    "    cost_drilling = get_drill_cost_vec(drill_cost_dist, sim_size) * 1000 # multiply by 1000 since these numbers are in thousands of dollars\n",
    "    \n",
    "    total_cost_acre = cost_per_acre * n_acres\n",
    "    total_cost_section = cost_per_section * n_sections\n",
    "        \n",
    "    final_cost = (total_cost_acre + total_cost_section + overhead + cost_drilling)\n",
    "        \n",
    "    return(final_cost)"
   ]
  },
  {
   "cell_type": "code",
   "execution_count": 10,
   "metadata": {
    "code_folding": []
   },
   "outputs": [
    {
     "data": {
      "text/plain": [
       "<matplotlib.axes._subplots.AxesSubplot at 0x26985c4aa88>"
      ]
     },
     "execution_count": 10,
     "metadata": {},
     "output_type": "execute_result"
    },
    {
     "data": {
      "text/html": [
       "<div>\n",
       "<style scoped>\n",
       "    .dataframe tbody tr th:only-of-type {\n",
       "        vertical-align: middle;\n",
       "    }\n",
       "\n",
       "    .dataframe tbody tr th {\n",
       "        vertical-align: top;\n",
       "    }\n",
       "\n",
       "    .dataframe thead th {\n",
       "        text-align: right;\n",
       "    }\n",
       "</style>\n",
       "<table border=\"1\" class=\"dataframe\">\n",
       "  <thead>\n",
       "    <tr style=\"text-align: right;\">\n",
       "      <th></th>\n",
       "      <th>0.01</th>\n",
       "      <th>0.05</th>\n",
       "      <th>0.25</th>\n",
       "      <th>0.50</th>\n",
       "      <th>0.75</th>\n",
       "      <th>0.95</th>\n",
       "      <th>0.99</th>\n",
       "    </tr>\n",
       "  </thead>\n",
       "  <tbody>\n",
       "    <tr>\n",
       "      <th>0</th>\n",
       "      <td>2250815.17</td>\n",
       "      <td>2729444.30</td>\n",
       "      <td>3676588.19</td>\n",
       "      <td>4578586.18</td>\n",
       "      <td>5729320.92</td>\n",
       "      <td>7937723.17</td>\n",
       "      <td>9972721.93</td>\n",
       "    </tr>\n",
       "  </tbody>\n",
       "</table>\n",
       "</div>"
      ],
      "text/plain": [
       "        0.01       0.05       0.25       0.50       0.75       0.95       0.99\n",
       "0 2250815.17 2729444.30 3676588.19 4578586.18 5729320.92 7937723.17 9972721.93"
      ]
     },
     "execution_count": 10,
     "metadata": {},
     "output_type": "execute_result"
    },
    {
     "data": {
      "image/png": "[encoded data removed]",
      "text/plain": [
       "<Figure size 432x288 with 1 Axes>"
      ]
     },
     "metadata": {
      "needs_background": "light"
     },
     "output_type": "display_data"
    }
   ],
   "source": [
    "# run simulation and plot values\n",
    "dry = sim_dry_vec(1000000)\n",
    "\n",
    "import seaborn as sns\n",
    "sns.distplot(dry);\n",
    "\n",
    "q = [.01, .05, .25, .5, .75, .95, .99]\n",
    "pd.DataFrame(np.quantile(dry, q), index = q).T"
   ]
  },
  {
   "cell_type": "markdown",
   "metadata": {},
   "source": [
    "## Dry well simulation (loops)"
   ]
  },
  {
   "cell_type": "code",
   "execution_count": null,
   "metadata": {
    "code_folding": [
     0
    ],
    "scrolled": true
   },
   "outputs": [],
   "source": [
    "# define dry simulation function\n",
    "\n",
    "def sim_dry():\n",
    "    # simulate the distribution of 2020 drilling costs with the KDE\n",
    "    kde_values = simulate_kde()\n",
    "    \n",
    "    # unit costs\n",
    "    cost_per_acre = 960\n",
    "    cost_per_section = 43000\n",
    "    \n",
    "    # simulate\n",
    "    cost_lst = []\n",
    "    for i in range(10000):\n",
    "        n_acres = np.random.normal(600, 60) \n",
    "        n_sections = np.random.normal(3, .35) \n",
    "        overhead = np.random.triangular(left = 172000, mode = 215000, right = 279500)\n",
    "        \n",
    "        # sample from the KDE distribution and use this as the drilling cost\n",
    "        cost_drilling = get_drill_cost(kde_values) * 1000\n",
    "    \n",
    "        total_cost_acre = cost_per_acre * n_acres\n",
    "        total_cost_section = cost_per_section * n_sections\n",
    "        \n",
    "        final_cost = total_cost_acre + total_cost_section + overhead + cost_drilling\n",
    "        \n",
    "        cost_lst.append(final_cost)\n",
    "        \n",
    "    return(cost_lst)   \n",
    "\n",
    "# run simulation and plot values\n",
    "dry = sim_dry()\n",
    "\n",
    "import seaborn as sns\n",
    "sns.distplot(dry);\n",
    "\n",
    "q = [.01, .05, .25, .5, .75, .95, .99]\n",
    "pd.DataFrame(np.quantile(dry, q), index = q).T"
   ]
  },
  {
   "cell_type": "markdown",
   "metadata": {},
   "source": [
    "# Simulate NPV of Single Wet Well (vectorized)"
   ]
  },
  {
   "cell_type": "code",
   "execution_count": 11,
   "metadata": {
    "code_folding": []
   },
   "outputs": [],
   "source": [
    "def initial_cost_vec(kde_values, sim_size):\n",
    "    # year 0 costs\n",
    "    \n",
    "    # unit costs\n",
    "    cost_per_acre = 960\n",
    "    cost_per_section = 43000\n",
    "    \n",
    "    # simulate (overhead will need to be added for future years as well)\n",
    "    n_acres = np.random.normal(600, 50, size = sim_size) \n",
    "    n_sections = np.random.normal(3, .35, size = sim_size) \n",
    "    overhead = np.random.triangular(left = 172000, mode = 215000, right = 279500, size = sim_size)\n",
    "    cost_completion = np.random.normal(390000, 50000, size = sim_size)\n",
    "    \n",
    "    # sample from the KDE distribution and use this as the drilling cost\n",
    "    cost_drilling = get_drill_cost_vec(kde_values, sim_size) * 1000 # multiply by 1000 since these numbers are in thousands of dollars\n",
    "    \n",
    "    total_cost_acre = cost_per_acre * n_acres\n",
    "    total_cost_section = cost_per_section * n_sections\n",
    "        \n",
    "    final_cost = (total_cost_acre + total_cost_section + overhead + cost_drilling + cost_completion)\n",
    "        \n",
    "    return(final_cost)"
   ]
  },
  {
   "cell_type": "code",
   "execution_count": 12,
   "metadata": {
    "code_folding": []
   },
   "outputs": [],
   "source": [
    "def get_rates_vec(sim_size):\n",
    "    '''Returns a random sample of size n = 1 from the population of\n",
    "    correlated initial production rates and decline rates \n",
    "    '''\n",
    "    # functions and matrices for chol decomp later\n",
    "    def standardize(x):\n",
    "        x_std = (x - x.mean())/x.std()\n",
    "        return(x_std)\n",
    "\n",
    "    def destandardize(x_std, x):\n",
    "        x_old = (x_std * x.std()) + x.mean()\n",
    "        return(x_old)\n",
    "    \n",
    "    r = np.array([[1, .64], [.64, 1]]) # correlation matrix\n",
    "    u = np.linalg.cholesky(r)\n",
    "    \n",
    "    init_rate = np.random.lognormal(6, .28, size = sim_size) # barrels/day\n",
    "\n",
    "    # decline rate\n",
    "    dec_rate = np.random.uniform(.15, .32, size = sim_size)\n",
    "\n",
    "    # make init_rate and dec_rate correlated (.64)\n",
    "    both_rates = [standardize(dec_rate), standardize(init_rate)]\n",
    "    id_rate = np.dot(u, both_rates).T\n",
    "\n",
    "    final_id_rate = np.array([[destandardize(id_rate[:, 0], dec_rate)],\n",
    "                         [destandardize(id_rate[:, 1], init_rate)]])\n",
    "    final_id_rate = final_id_rate.squeeze()\n",
    "    \n",
    "    return(final_id_rate)"
   ]
  },
  {
   "cell_type": "code",
   "execution_count": 13,
   "metadata": {
    "code_folding": []
   },
   "outputs": [],
   "source": [
    "def get_price_vec(year, sim_size):\n",
    "    '''Return the price of oil from the specified year'''\n",
    "    df_cols = df_price[['high_oil_price', 'low_oil_price', 'ref_oil_price']]\n",
    "    \n",
    "    prices = df_cols[df_price['year'] == year].values\n",
    "    price = np.random.triangular(right = prices[0][0], left = prices[0][1], mode = prices[0][2], size = sim_size)\n",
    "    \n",
    "    return(price)"
   ]
  },
  {
   "cell_type": "code",
   "execution_count": 14,
   "metadata": {
    "code_folding": []
   },
   "outputs": [],
   "source": [
    "def n_barrels_matrix(sim_size):\n",
    "    '''Returns a simulated matrix. Number of columns = number of simulations,\n",
    "    number of rows = number of years (i.e., there will be 15 rows). \n",
    "    '''    \n",
    "    \n",
    "    # calculate the initial production rate and decline rate\n",
    "    dec_rate, ip_rate = get_rates_vec(sim_size)\n",
    "    annual_rate = 365 * ip_rate\n",
    "    \n",
    "    first_year = []\n",
    "    first_year.append(annual_rate) # barrels produced in 1st year\n",
    "    \n",
    "    avg_prod_lst = []\n",
    "        \n",
    "    for j in range(14):\n",
    "        annual_rate_t0 = annual_rate\n",
    "        annual_rate = annual_rate*(1-dec_rate)\n",
    "        \n",
    "        avg_production = (annual_rate_t0 + annual_rate) / 2\n",
    "        avg_prod_lst.append(avg_production)\n",
    "        \n",
    "    matrix = np.array(first_year + avg_prod_lst)\n",
    "    \n",
    "    return(matrix)"
   ]
  },
  {
   "cell_type": "code",
   "execution_count": 15,
   "metadata": {
    "code_folding": []
   },
   "outputs": [],
   "source": [
    "def get_annual_rev_matrix(sim_size):\n",
    "    ''' Return matrix of simulated total annual revenue for years 2021-2035\n",
    "            nrows = number of years\n",
    "            ncols = number of simulations\n",
    "    '''\n",
    "    barrels = n_barrels_matrix(sim_size) # matrix containing oil produced for each year \n",
    "    \n",
    "    rev = []\n",
    "    \n",
    "    n = 0\n",
    "    for i in range(2021, 2036):\n",
    "        # initial revenue\n",
    "        price = get_price_vec(i, sim_size) # price for year i\n",
    "        quantity = barrels[n, :] # quantity for year i \n",
    "        revenue = price * quantity\n",
    "        \n",
    "        # overhead \n",
    "        overhead = np.random.triangular(left = 172000, mode = 215000, right = 279500, size = sim_size)\n",
    "        revenue = revenue - overhead\n",
    "        \n",
    "        # nri\n",
    "        nri_rate = np.random.normal(.75, .02, size = sim_size)\n",
    "        revenue_post_nri = revenue * nri_rate\n",
    "        \n",
    "        # tax\n",
    "        revenue_post_tax = revenue_post_nri*(1-.046)\n",
    "        \n",
    "        # operating expenses\n",
    "        oc_per_barrel = np.random.normal(2.25, .3, size = sim_size)\n",
    "        annual_oc = oc_per_barrel * quantity\n",
    "        \n",
    "        # total revenue \n",
    "        total_rev = revenue_post_tax - annual_oc\n",
    "        \n",
    "        rev.append(total_rev)\n",
    "        \n",
    "        n += 1\n",
    "        \n",
    "    rev = np.array(rev)\n",
    "    \n",
    "    return(rev)"
   ]
  },
  {
   "cell_type": "code",
   "execution_count": 16,
   "metadata": {
    "code_folding": []
   },
   "outputs": [],
   "source": [
    "def sim_wet_npv_vec(sim_size):\n",
    "    '''Return vector of simulated NPVs, dimension of vector is [sim_size x 1]'''\n",
    "    \n",
    "    kde_values = drill_cost_sim(sim_size)\n",
    "    kde_values = list(kde_values)\n",
    "    \n",
    "    initial_c = initial_cost_vec(kde_values, sim_size)\n",
    "    fnr = get_annual_rev_matrix(sim_size)\n",
    "    \n",
    "    weighted_fnr_total = 0\n",
    "    n = 0 \n",
    "    for i in range(1, 16):\n",
    "        weighted_fnr = fnr[n, :] / (1.1)**i\n",
    "        weighted_fnr_total += weighted_fnr\n",
    "        n += 1\n",
    "        \n",
    "    npv = np.array(weighted_fnr_total - initial_c)\n",
    "    \n",
    "    return(npv)"
   ]
  },
  {
   "cell_type": "code",
   "execution_count": 18,
   "metadata": {},
   "outputs": [
    {
     "data": {
      "text/html": [
       "<div>\n",
       "<style scoped>\n",
       "    .dataframe tbody tr th:only-of-type {\n",
       "        vertical-align: middle;\n",
       "    }\n",
       "\n",
       "    .dataframe tbody tr th {\n",
       "        vertical-align: top;\n",
       "    }\n",
       "\n",
       "    .dataframe thead th {\n",
       "        text-align: right;\n",
       "    }\n",
       "</style>\n",
       "<table border=\"1\" class=\"dataframe\">\n",
       "  <thead>\n",
       "    <tr style=\"text-align: right;\">\n",
       "      <th></th>\n",
       "      <th>0.01</th>\n",
       "      <th>0.05</th>\n",
       "      <th>0.25</th>\n",
       "      <th>0.50</th>\n",
       "      <th>0.75</th>\n",
       "      <th>0.95</th>\n",
       "      <th>0.99</th>\n",
       "    </tr>\n",
       "  </thead>\n",
       "  <tbody>\n",
       "    <tr>\n",
       "      <th>0</th>\n",
       "      <td>7050104.66</td>\n",
       "      <td>10825395.64</td>\n",
       "      <td>16726403.54</td>\n",
       "      <td>21381134.92</td>\n",
       "      <td>26726316.77</td>\n",
       "      <td>36119026.52</td>\n",
       "      <td>44498438.31</td>\n",
       "    </tr>\n",
       "  </tbody>\n",
       "</table>\n",
       "</div>"
      ],
      "text/plain": [
       "        0.01        0.05        0.25        0.50        0.75        0.95  \\\n",
       "0 7050104.66 10825395.64 16726403.54 21381134.92 26726316.77 36119026.52   \n",
       "\n",
       "         0.99  \n",
       "0 44498438.31  "
      ]
     },
     "execution_count": 18,
     "metadata": {},
     "output_type": "execute_result"
    }
   ],
   "source": [
    "# run 1 million simulations\n",
    "\n",
    "vals = sim_wet_npv_vec(1000000)\n",
    "\n",
    "q = [.01, .05, .25, .5, .75, .95, .99]\n",
    "pd.DataFrame(np.quantile(vals, q), index = q).T"
   ]
  },
  {
   "cell_type": "code",
   "execution_count": 19,
   "metadata": {},
   "outputs": [
    {
     "data": {
      "text/plain": [
       "<matplotlib.axes._subplots.AxesSubplot at 0x269860235c8>"
      ]
     },
     "execution_count": 19,
     "metadata": {},
     "output_type": "execute_result"
    },
    {
     "data": {
      "image/png": "[encoded data removed]",
      "text/plain": [
       "<Figure size 432x288 with 1 Axes>"
      ]
     },
     "metadata": {
      "needs_background": "light"
     },
     "output_type": "display_data"
    }
   ],
   "source": [
    "import seaborn as sns\n",
    "sns.distplot(vals)"
   ]
  },
  {
   "cell_type": "markdown",
   "metadata": {},
   "source": [
    "# Simulate NPV of Single Wet Well (loops)"
   ]
  },
  {
   "cell_type": "code",
   "execution_count": null,
   "metadata": {
    "code_folding": [
     0
    ]
   },
   "outputs": [],
   "source": [
    "def initial_cost(kde_values):\n",
    "    # year 0 costs\n",
    "    \n",
    "    # unit costs\n",
    "    cost_per_acre = 960\n",
    "    cost_per_section = 43000\n",
    "    \n",
    "    # simulate (overhead will need to be added for future years as well)\n",
    "    n_acres = np.random.normal(600, 60) \n",
    "    n_sections = np.random.normal(3, .35) \n",
    "    overhead = np.random.triangular(left = 172000, mode = 215000, right = 279500)\n",
    "    cost_completion = np.random.normal(390000, 50000)\n",
    "    \n",
    "    # sample from the KDE distribution and use this as the drilling cost\n",
    "    cost_drilling = get_drill_cost(kde_values) * 1000 # multiply by 1000 since these numbers are in thousands of dollars\n",
    "    \n",
    "    total_cost_acre = cost_per_acre * n_acres\n",
    "    total_cost_section = cost_per_section * n_sections\n",
    "        \n",
    "    final_cost = (total_cost_acre + total_cost_section + overhead + cost_drilling +\n",
    "                 cost_completion)\n",
    "        \n",
    "    return(final_cost)"
   ]
  },
  {
   "cell_type": "code",
   "execution_count": null,
   "metadata": {
    "code_folding": [
     0
    ]
   },
   "outputs": [],
   "source": [
    "def get_rates():\n",
    "    '''Returns a random sample of size n = 1 from the population of\n",
    "    correlated initial production rates and decline rates \n",
    "    '''\n",
    "    # functions and matrices for chol decomp later\n",
    "    def standardize(x):\n",
    "        x_std = (x - x.mean())/x.std()\n",
    "        return(x_std)\n",
    "\n",
    "    def destandardize(x_std, x):\n",
    "        x_old = (x_std * x.std()) + x.mean()\n",
    "        return(x_old)\n",
    "    \n",
    "    r = np.array([[1, .64], [.64, 1]]) # correlation matrix\n",
    "    u = np.linalg.cholesky(r)\n",
    "    \n",
    "    init_rate = np.random.lognormal(6, .28, 100000) # barrels/day\n",
    "\n",
    "    # decline rate\n",
    "    dec_rate = np.random.uniform(.15, .32, 100000)\n",
    "\n",
    "    # make init_rate and dec_rate correlated (.64)\n",
    "    both_rates = [standardize(init_rate), standardize(dec_rate)]\n",
    "    id_rate = np.dot(u, both_rates).T\n",
    "\n",
    "    final_id_rate = np.array([[destandardize(id_rate[:, 0], init_rate)],\n",
    "                         [destandardize(id_rate[:, 1], dec_rate)]])\n",
    "    final_id_rate = final_id_rate.squeeze()\n",
    "        \n",
    "    # sample from the correlated 'population' \n",
    "    import random\n",
    "    samp = random.sample(list(final_id_rate.T), k = 1)\n",
    "    samp = [item for sublist in samp for item in sublist] # flatten list\n",
    "        \n",
    "    return(samp)"
   ]
  },
  {
   "cell_type": "code",
   "execution_count": null,
   "metadata": {
    "code_folding": [
     0
    ]
   },
   "outputs": [],
   "source": [
    "def n_barrels():\n",
    "    '''Returns a simulated list of the number of barrels of oil produced for\n",
    "    each year during the 15 year period. \n",
    "    '''    \n",
    "    barrels_produced = []\n",
    "    \n",
    "    # calculate the initial production rate and decline rate\n",
    "    ip_rate, dec_rate = get_rates()\n",
    "    annual_rate = 365 * ip_rate\n",
    "    barrels_produced.append(annual_rate) # barrels produced in 1st year\n",
    "        \n",
    "    for j in range(14):\n",
    "        annual_rate_t0 = annual_rate\n",
    "        annual_rate = annual_rate*(1-dec_rate)\n",
    "        avg_production = np.mean([annual_rate_t0, annual_rate])\n",
    "        barrels_produced.append(avg_production)\n",
    "        \n",
    "    return(barrels_produced) "
   ]
  },
  {
   "cell_type": "code",
   "execution_count": null,
   "metadata": {
    "code_folding": [
     0
    ]
   },
   "outputs": [],
   "source": [
    "def get_price(year):\n",
    "    '''Return the price of oil from the specified year'''\n",
    "    df_cols = df_price[['high_oil_price', 'low_oil_price', 'ref_oil_price']]\n",
    "    \n",
    "    prices = df_cols[df_price['year'] == year].values\n",
    "    price = np.random.triangular(right = prices[0][0], left = prices[0][1], mode = prices[0][2])\n",
    "    \n",
    "    return(price)"
   ]
  },
  {
   "cell_type": "code",
   "execution_count": null,
   "metadata": {
    "code_folding": [
     0
    ]
   },
   "outputs": [],
   "source": [
    "def get_annual_rev():\n",
    "    ''' Return total annual revenue for years 2021-2035'''\n",
    "    barrels = n_barrels() # list containing oil produced for each year \n",
    "    \n",
    "    rev = []\n",
    "    \n",
    "    n = 0\n",
    "    for i in range(2021, 2036):\n",
    "        # initial revenue\n",
    "        price = get_price(i) # price for year i\n",
    "        quantity = barrels[n] # quantity for year i \n",
    "        revenue = price * quantity\n",
    "        \n",
    "        # overhead \n",
    "        overhead = np.random.triangular(left = 172000, mode = 215000, right = 279500)\n",
    "        revenue = revenue - overhead\n",
    "        \n",
    "        # nri\n",
    "        nri_rate = np.random.normal(.75, .02)\n",
    "        revenue_post_nri = revenue * nri_rate\n",
    "        \n",
    "        # tax\n",
    "        revenue_post_tax = revenue_post_nri*(1-.046)\n",
    "        \n",
    "        # operating expenses\n",
    "        oc_per_barrel = np.random.normal(2.25, .3)\n",
    "        annual_oc = oc_per_barrel * quantity\n",
    "        \n",
    "        # total revenue \n",
    "        total_rev = revenue_post_tax - annual_oc\n",
    "        \n",
    "        rev.append(total_rev)\n",
    "        \n",
    "        n += 1\n",
    "        \n",
    "    return(rev)"
   ]
  },
  {
   "cell_type": "code",
   "execution_count": null,
   "metadata": {
    "code_folding": [
     0
    ]
   },
   "outputs": [],
   "source": [
    "def sim_wet_npv(reps):\n",
    "    kde_values = simulate_kde()\n",
    "    npv = []\n",
    "    \n",
    "    from tqdm import tqdm # show progress bar\n",
    "    for i in tqdm(range(reps)):\n",
    "        initial_c = initial_cost(kde_values = kde_values)\n",
    "        fnr = get_annual_rev()\n",
    "        \n",
    "        weighted_fnr_total = 0\n",
    "        n = 0\n",
    "        for j in range(1, 16):\n",
    "            weighted_fnr = fnr[n] / (1.1)**j\n",
    "            weighted_fnr_total += weighted_fnr\n",
    "            #print('fnr[n]:', fnr[n])\n",
    "            #print('weighted_fnr:', weighted_fnr, '\\n')\n",
    "            n += 1\n",
    "            \n",
    "        weighted_fnr_total = weighted_fnr_total - initial_c\n",
    "        \n",
    "        npv.append(weighted_fnr_total)\n",
    "        # print(weighted_fnr_total)\n",
    "        \n",
    "    return(npv)"
   ]
  },
  {
   "cell_type": "code",
   "execution_count": null,
   "metadata": {
    "scrolled": false
   },
   "outputs": [],
   "source": [
    "test = sim_wet_npv(100)"
   ]
  },
  {
   "cell_type": "code",
   "execution_count": null,
   "metadata": {},
   "outputs": [],
   "source": [
    "q = [.01, .05, .25, .5, .75, .95, .99]\n",
    "pd.DataFrame(np.quantile(test, q), index = q).T"
   ]
  },
  {
   "cell_type": "code",
   "execution_count": null,
   "metadata": {},
   "outputs": [],
   "source": [
    "sns.distplot(test)"
   ]
  },
  {
   "cell_type": "code",
   "execution_count": null,
   "metadata": {},
   "outputs": [],
   "source": [
    "sim_wet_npv(5)"
   ]
  },
  {
   "cell_type": "markdown",
   "metadata": {},
   "source": [
    "## Demonstrating how Chol Decomp works"
   ]
  },
  {
   "cell_type": "code",
   "execution_count": null,
   "metadata": {
    "code_folding": [
     0
    ]
   },
   "outputs": [],
   "source": [
    "# functions and matrices for chol decomp later\n",
    "def standardize(x):\n",
    "    x_std = (x - x.mean())/x.std()\n",
    "    return(x_std)\n",
    "\n",
    "def destandardize(x_std, x):\n",
    "    x_old = (x_std * x.std()) + x.mean()\n",
    "    return(x_old)\n",
    "\n",
    "r = np.array([[1, .64], [.64, 1]]) # correlation matrix\n",
    "u = np.linalg.cholesky(r)\n",
    "\n",
    "init_rate = np.random.lognormal(6, .28, 100000) # barrels/day\n",
    "\n",
    "# decline rate\n",
    "dec_rate = np.random.uniform(.15, .32, 100000)\n",
    "\n",
    "# make init_rate and dec_rate correlated (.64)\n",
    "both_rates = [standardize(init_rate), standardize(dec_rate)]\n",
    "id_rate = np.dot(u, both_rates).T\n",
    "\n",
    "final_id_rate = np.array([[destandardize(id_rate[:, 0], init_rate)],\n",
    "                         [destandardize(id_rate[:, 1], dec_rate)]])\n",
    "final_id_rate = final_id_rate.squeeze()\n",
    "\n",
    "# display newly correlated init_rate and dec_rate\n",
    "pd.DataFrame(final_id_rate, index = ['BOPD', 'dec_rate']).T.head()\n",
    "\n",
    "print('Correlation Matrix\\n------------\\n', np.corrcoef(final_id_rate))"
   ]
  }
 ],
 "metadata": {
  "kernelspec": {
   "display_name": "Python 3",
   "language": "python",
   "name": "python3"
  },
  "language_info": {
   "codemirror_mode": {
    "name": "ipython",
    "version": 3
   },
   "file_extension": ".py",
   "mimetype": "text/x-python",
   "name": "python",
   "nbconvert_exporter": "python",
   "pygments_lexer": "ipython3",
   "version": "3.7.4"
  },
  "toc": {
   "base_numbering": 1,
   "nav_menu": {},
   "number_sections": false,
   "sideBar": true,
   "skip_h1_title": false,
   "title_cell": "Table of Contents",
   "title_sidebar": "Contents",
   "toc_cell": false,
   "toc_position": {
    "height": "calc(100% - 180px)",
    "left": "10px",
    "top": "150px",
    "width": "305.885px"
   },
   "toc_section_display": true,
   "toc_window_display": true
  },
  "varInspector": {
   "cols": {
    "lenName": 16,
    "lenType": 16,
    "lenVar": 40
   },
   "kernels_config": {
    "python": {
     "delete_cmd_postfix": "",
     "delete_cmd_prefix": "del ",
     "library": "var_list.py",
     "varRefreshCmd": "print(var_dic_list())"
    },
    "r": {
     "delete_cmd_postfix": ") ",
     "delete_cmd_prefix": "rm(",
     "library": "var_list.r",
     "varRefreshCmd": "cat(var_dic_list()) "
    }
   },
   "types_to_exclude": [
    "module",
    "function",
    "builtin_function_or_method",
    "instance",
    "_Feature"
   ],
   "window_display": false
  }
 },
 "nbformat": 4,
 "nbformat_minor": 2
}
